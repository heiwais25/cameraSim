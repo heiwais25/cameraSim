{
 "cells": [
  {
   "cell_type": "code",
   "execution_count": 13,
   "metadata": {},
   "outputs": [
    {
     "name": "stdout",
     "output_type": "stream",
     "text": [
      "The autoreload extension is already loaded. To reload it, use:\n",
      "  %reload_ext autoreload\n"
     ]
    }
   ],
   "source": [
    "import numpy as np\n",
    "import matplotlib.pyplot as plt\n",
    "from matplotlib.colors import LogNorm\n",
    "import matplotlib as mpl\n",
    "from utility import cart_to_sphe, sphe_to_cart, calculate_inter_angle_to_camera, get_sensor_filter, refractive_index_ice\n",
    "from utility import calc_refracted_dir, pass_pressure_vessel, get_total_hist2d, draw_arrival_info, draw_FOV_boundary\n",
    "from utility import draw_photon_with_lens\n",
    "import itertools\n",
    "\n",
    "mpl.rcParams['figure.figsize'] = (10,8)\n",
    "mpl.rcParams['font.size'] = 14\n",
    "\n",
    "%load_ext autoreload\n",
    "%autoreload 2"
   ]
  },
  {
   "cell_type": "markdown",
   "metadata": {},
   "source": [
    "-----------\n",
    "### Main parameters"
   ]
  },
  {
   "cell_type": "code",
   "execution_count": 2,
   "metadata": {},
   "outputs": [],
   "source": [
    "src_dir = \"../dats/\"\n",
    "output_dir = \"../output/\"\n",
    "diff = [20, 0, 0]\n",
    "# diff = [30, 0, 10]\n",
    "\n",
    "file_name = \"ppc_log_x_%.2f_y_%.2f_z_%.2f_0.dat\" % (diff[0], diff[1], diff[2])\n",
    "dom_radius = 0.16510\n",
    "camera_pos_sphe = np.array([0, np.pi/2])\n",
    "camera_normal_vec = sphe_to_cart(camera_pos_sphe)\n",
    "camera_pos_rad = dom_radius - 0.02 # Assume 5 cm apart from DOM boundary\n",
    "camera_lens_rad = 0.005 \n",
    "opening_angle = np.pi * 2 / 3 # = 22.86 when the camera opening angle is 120 degree(Using sin's law)\n",
    "FOV = 120\n",
    "wv = 405 #[nm]\n",
    "scattering_length = 42.53 #[m]\n",
    "absorption_length = 147.811 #[m]\n",
    "ice_param = [scattering_length, absorption_length]"
   ]
  },
  {
   "cell_type": "markdown",
   "metadata": {},
   "source": [
    "-----------\n",
    "### 1. Read photon information from files\n",
    "\n",
    "In this analysis, there are two main variables **(momentum, direction)**. Each variables are given by **spherical coordinates(phi, theta)** as a unit vector.\n",
    "1. **Momentum** : Photon momentum on the DOM that tells us about photon track information(direction)\n",
    "2. **Position** : Photon arrival point from center of the DOM <br/>\n",
    "\n",
    "Using this two variables, we can check how it appears in the camera lens inside DOM. To get these data, you can use **PPC(Photon propagation code)** which is simulate photon interaction when it pass through the ice. <br/>\n",
    "PPC : [https://icecube.wisc.edu/~dima/work/WISC/ppc/]"
   ]
  },
  {
   "cell_type": "code",
   "execution_count": 3,
   "metadata": {},
   "outputs": [],
   "source": [
    "# Get photon information from first file at current setting\n",
    "data = np.fromfile(src_dir + file_name, dtype='<f4')\n",
    "photon_log = data.reshape(-1, 8)\n",
    "momentum= photon_log[:,5:3:-1] \n",
    "position = photon_log[:,7:5:-1]"
   ]
  },
  {
   "cell_type": "markdown",
   "metadata": {},
   "source": [
    "--------\n",
    "### Draw raw arrival momentum \n",
    "We can check photon information which arrive on the surface of the DOM. It is raw data without any treatment like refraction on the DOM. "
   ]
  },
  {
   "cell_type": "code",
   "execution_count": null,
   "metadata": {},
   "outputs": [],
   "source": [
    "draw_arrival_info(momentum, position, \"momentum\", ice_param, diff, output_dir=output_dir, savefig=True, showfig=False)\n",
    "draw_arrival_info(momentum, position, \"position\", ice_param, diff, output_dir=output_dir, savefig=True, showfig=False)"
   ]
  },
  {
   "cell_type": "markdown",
   "metadata": {},
   "source": [
    "------\n",
    "### 2. Refraction of photon\n",
    "The photon will pass the pressure vessel and it cause refraction, There are two refraction **(ice -> vessel), (vessel -> inside of DOM)**. In the second case(vessel -> inside of DOM), photon goes high refractive index to low index. So, some photons cannot pass the boundary. After calculation of refraction, we will get the momentum and position vector of photon inside of DOM.**(in_momentum, in_position)** In the function, it will automatically remove photons cannot pass the inner DOM side. "
   ]
  },
  {
   "cell_type": "code",
   "execution_count": 4,
   "metadata": {},
   "outputs": [
    {
     "name": "stderr",
     "output_type": "stream",
     "text": [
      "/home/jh/working_directory/cameraSim/cameraAnalysis/utility.py:142: RuntimeWarning: invalid value encountered in sqrt\n",
      "  s2 = n * np.cross(N, np.cross(-N, s1)) - (N.T * np.sqrt(1 - n**2 * np.sum(cross * cross, axis=1))).T\n"
     ]
    }
   ],
   "source": [
    "in_momentum, in_position = pass_pressure_vessel(position, momentum, refractive_index_ice(wv))"
   ]
  },
  {
   "cell_type": "code",
   "execution_count": null,
   "metadata": {},
   "outputs": [],
   "source": [
    "draw_arrival_info(in_momentum, in_position, \"momentum\", ice_param, diff, \n",
    "                      output_dir=output_dir, refraction=True, savefig=True, showfig=False)\n",
    "draw_arrival_info(in_momentum, in_position, \"position\", ice_param, diff, \n",
    "                      output_dir=output_dir, refraction=True, savefig=True, showfig=False)"
   ]
  },
  {
   "cell_type": "markdown",
   "metadata": {},
   "source": [
    "-----\n",
    "### Draw the maximum range(FOV)\n",
    "As camera has FOV(Field of view), the photon track will be filtered to satisfy the FOV condition."
   ]
  },
  {
   "cell_type": "code",
   "execution_count": null,
   "metadata": {},
   "outputs": [],
   "source": [
    "draw_FOV_boundary(camera_pos_sphe, 120, output_dir=output_dir, savefig=True, showfig=False)"
   ]
  },
  {
   "cell_type": "markdown",
   "metadata": {},
   "source": [
    "## 3. Move from surface of pressure vessel to sensor\n",
    "To get image information on the sensor, we need to considr the effect of pressure vessel because it makes refraction to the photon. So, we need to calculate refracted photon information using **Snell's law** and then filter the photon which can arrive in sensor. First, there are two refraction for the photon <br/>\n",
    "1. Ice -> Pressure Veseel\n",
    "2. Pressure vessel -> Interior of DOM<br/>\n",
    "\n",
    "Naturally, it is important to calculate photon track inside of the vessel(between step 1 and 2). After calculation of two refraction, we can get photon information inside of the DOM(In this process, there are some photons which cannot pass the vessel due to refractive index). Then, we will check whether the photon track by these two steps<br/>\n",
    "1. Whether the photon track will pass the camera lens area\n",
    "2. Whether interior angle between photon momentum and lens normal vector is smaller than half of opening angle(FOV)<br/>\n",
    "\n",
    "After finishing these all process, we can get photon information on the camera lens!\n",
    "\n",
    "- Ref\n",
    "- https://wiki.icecube.wisc.edu/index.php/Glass_Pressure_Vessel\n",
    "- http://www.starkeffects.com/snells-law-vector.shtml"
   ]
  },
  {
   "cell_type": "code",
   "execution_count": 7,
   "metadata": {},
   "outputs": [],
   "source": [
    "# Apply lens filter\n",
    "lens_filter = get_sensor_filter(in_position, in_momentum, camera_pos_sphe, camera_lens_rad=camera_lens_rad, FOV=120)\n",
    "momentum_on_lens = in_momentum[lens_filter]\n",
    "position_on_lens = in_position[lens_filter]"
   ]
  },
  {
   "cell_type": "code",
   "execution_count": 8,
   "metadata": {},
   "outputs": [],
   "source": [
    "draw_photon_with_lens(momentum_on_lens, position_on_lens, camera_pos_sphe, FOV, \"momentum\", ice_param, diff, \n",
    "                      output_dir=output_dir, onlylens=True, drawFOV=True, showall=True, savefig=True, showfig=False)\n",
    "draw_photon_with_lens(momentum_on_lens, position_on_lens, camera_pos_sphe, FOV, \"position\", ice_param, diff, \n",
    "                      output_dir=output_dir, onlylens=True, drawFOV=True, showall=True, savefig=True, showfig=False)\n",
    "draw_photon_with_lens(in_momentum, in_position, camera_pos_sphe, FOV, \"momentum\", ice_param, diff, \n",
    "                      output_dir=output_dir, drawFOV=True, showall=True, savefig=True, showfig=False)\n",
    "draw_photon_with_lens(in_momentum, in_position, camera_pos_sphe, FOV, \"position\", ice_param, diff, \n",
    "                      output_dir=output_dir, drawFOV=True, showall=True, savefig=True, showfig=False)"
   ]
  },
  {
   "cell_type": "markdown",
   "metadata": {},
   "source": [
    "------\n",
    "## 4. Get all momentum histogram on the target by merging seperate files\n",
    "The photon data are splitted if the size is larger than 256MB(which include 8388608 photon). So, we need to merge this files into histogram because the np.array is so large if we have them all in the memory. `get_total_histogram` function will collect every files and sum over the histogram. We can use `filter_lens` argument as true to get the photon information on the lens(This is default). Otherwise, we will get overall photon momentum information."
   ]
  },
  {
   "cell_type": "code",
   "execution_count": 9,
   "metadata": {},
   "outputs": [
    {
     "name": "stderr",
     "output_type": "stream",
     "text": [
      "/home/jh/working_directory/cameraSim/cameraAnalysis/utility.py:142: RuntimeWarning: invalid value encountered in sqrt\n",
      "  s2 = n * np.cross(N, np.cross(-N, s1)) - (N.T * np.sqrt(1 - n**2 * np.sum(cross * cross, axis=1))).T\n"
     ]
    },
    {
     "name": "stdout",
     "output_type": "stream",
     "text": [
      "1th file : 5440 photon arrive in lens\n",
      "2th file : 3701 photon arrive in lens\n",
      "The number of total photon on the lens : 9141\n"
     ]
    }
   ],
   "source": [
    "H, x_edges, y_edges = get_total_hist2d(file_name, 2, bins=40, show_position=False)"
   ]
  },
  {
   "cell_type": "markdown",
   "metadata": {},
   "source": [
    "## Compare the result"
   ]
  },
  {
   "cell_type": "code",
   "execution_count": 16,
   "metadata": {},
   "outputs": [
    {
     "data": {
      "text/plain": [
       "Text(0.5,1,'Arrival momentum of the photon with FOV')"
      ]
     },
     "execution_count": 16,
     "metadata": {},
     "output_type": "execute_result"
    },
    {
     "data": {
      "image/png": "[encoded data removed]",
      "text/plain": [
       "<matplotlib.figure.Figure at 0x7fc226418710>"
      ]
     },
     "metadata": {},
     "output_type": "display_data"
    }
   ],
   "source": [
    "draw_FOV_boundary(camera_pos_sphe, 120, output_dir=output_dir, savefig=False, showfig=True)\n",
    "plt.imshow(H, extent=[x_edges[0], x_edges[-1], y_edges[0], y_edges[-1]], norm=LogNorm(), origin='low')\n",
    "plt.xlim([-np.pi, np.pi])\n",
    "plt.ylim([0, np.pi])\n",
    "plt.title('Arrival momentum of the photon with FOV')"
   ]
  },
  {
   "cell_type": "code",
   "execution_count": null,
   "metadata": {},
   "outputs": [],
   "source": []
  }
 ],
 "metadata": {
  "kernelspec": {
   "display_name": "Python 3",
   "language": "python",
   "name": "python3"
  },
  "language_info": {
   "codemirror_mode": {
    "name": "ipython",
    "version": 3
   },
   "file_extension": ".py",
   "mimetype": "text/x-python",
   "name": "python",
   "nbconvert_exporter": "python",
   "pygments_lexer": "ipython3",
   "version": "3.6.4"
  }
 },
 "nbformat": 4,
 "nbformat_minor": 2
}
